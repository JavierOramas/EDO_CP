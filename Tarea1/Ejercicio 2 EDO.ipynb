{
 "cells": [
  {
   "cell_type": "markdown",
   "metadata": {},
   "source": [
    "#### $ y^{'} - 2y = ty^{2} $ $ y(0) = 1 $ $ 1 \\leq t\\leq 2 $ \n",
    "Para resolver esta EDO utilizaremos la ecuación diferencial de Bernoulli \n",
    "$$ \\frac{dy}{dt} - 2y = ty^{2} $$ dividimos entre $ y^{2} $ \n",
    "$$ \\frac{1}{y^{2}}\\frac{dy}{dt} - 2y = t $$\n",
    "Sustitución :\n",
    "$$ y = u^{-1} $$ (1)\n",
    "$$ \\frac{dy}{dt} = -u^{-2}\\frac{du}{dt} $$ (2)\n",
    "Sustituyendo en la ecuación (1) y (2)\n",
    "$$ \\frac{1}{u^{2}}\\frac{du}{dt} - 2u^{-1} = t $$\n",
    "$$ \\frac{du}{dt} + 2u^{-1} = -t $$\n",
    "Hallando el factor diferencial \n",
    "$$ e^{\\int_{}^{} 2 \\,dt } = e^{2t} $$\n",
    "Multiplicando el factor diferencial se obtiene\n",
    "$$ \\frac{d}{dt}[e^{2t}] = -te^{2t} $$\n",
    "$$ \\int_{}^{} \\frac{d}{dt}[e^{2t}] \\,dx = \\int_{}^{} -te^{2t} \\,dx $$ \n",
    "Resolviendo las integrales y depejando obtenemos \n",
    "$$ y = \\frac{-2te^{2t} + e^{2t} + 4c}{4e^2t} $$\n",
    "Como sabemos que y(0) = 1 podemos hallar el valor de la constante c \n",
    "$$ y(0) = \\frac{-2(0)e^{2(0)} + e^{2(0)} + 4c}{4e^2(0)}  = 1 $$\n",
    "$$ c = \\frac{3}{4} $$\n",
    "Luego $$ y =  \\frac{-2te^{2t} + e^{2t} + 3}{4e^2t} $$ "
   ]
  },
  {
   "cell_type": "code",
   "execution_count": null,
   "metadata": {},
   "outputs": [],
   "source": []
  },
  {
   "cell_type": "code",
   "execution_count": null,
   "metadata": {},
   "outputs": [],
   "source": []
  }
 ],
 "metadata": {
  "kernelspec": {
   "display_name": "Python 3",
   "language": "python",
   "name": "python3"
  },
  "language_info": {
   "codemirror_mode": {
    "name": "ipython",
    "version": 3
   },
   "file_extension": ".py",
   "mimetype": "text/x-python",
   "name": "python",
   "nbconvert_exporter": "python",
   "pygments_lexer": "ipython3",
   "version": "3.7.4"
  }
 },
 "nbformat": 4,
 "nbformat_minor": 4
}
