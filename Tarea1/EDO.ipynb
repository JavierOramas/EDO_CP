{
 "cells": [
  {
   "cell_type": "code",
   "execution_count": 2,
   "metadata": {},
   "outputs": [],
   "source": [
    "import numpy as np\n",
    "import matplotlib.pyplot as plt\n",
    "import pandas as pd"
   ]
  },
  {
   "cell_type": "code",
   "execution_count": 3,
   "metadata": {},
   "outputs": [],
   "source": [
    "\n",
    "f = lambda x, y : x * y ** 2 + 2 * y #escribir la funcion que se desea analizar\n",
    "\n",
    "H = [0.01, 0.001, 0.0001] #valor de h\n",
    "# h = float(input(\"Valor de h: \")) #valor de h\n",
    "vi = 1 #valor de la cota inferior de x\n",
    "# vi = int(input(\"valor inicial: \")) #valor de la cota inferior de x\n",
    "vf = 2 #valor de la cota superior de x\n",
    "# vf = int(input(\"valor final: \")) #valor de la cota superior de x\n"
   ]
  },
  {
   "cell_type": "code",
   "execution_count": 12,
   "metadata": {
    "tags": []
   },
   "outputs": [
    {
     "name": "stderr",
     "output_type": "stream",
     "text": [
      "/home/joramas/anaconda3/lib/python3.7/site-packages/ipykernel_launcher.py:1: RuntimeWarning: overflow encountered in double_scalars\n",
      "  \"\"\"Entry point for launching an IPython kernel.\n",
      "/home/joramas/anaconda3/lib/python3.7/site-packages/ipykernel_launcher.py:1: RuntimeWarning: overflow encountered in double_scalars\n",
      "  \"\"\"Entry point for launching an IPython kernel.\n",
      "/home/joramas/anaconda3/lib/python3.7/site-packages/ipykernel_launcher.py:1: RuntimeWarning: overflow encountered in double_scalars\n",
      "  \"\"\"Entry point for launching an IPython kernel.\n"
     ]
    },
    {
     "data": {
      "image/png": "[encoded data removed]",
      "text/plain": [
       "<Figure size 432x288 with 1 Axes>"
      ]
     },
     "metadata": {
      "needs_background": "light"
     },
     "output_type": "display_data"
    }
   ],
   "source": [
    "euler = pd.DataFrame()\n",
    "\n",
    "for index,h in enumerate(H):\n",
    "    temp = []\n",
    "    n = int((vf - vi) / h) + 1\n",
    "    x = np.zeros(n)\n",
    "    y = np.zeros(n)\n",
    "\n",
    "    y[0] = 1\n",
    "\n",
    "    for i in np.arange(1, n):\n",
    "        y[i] = y[i - 1] + f(x[i - 1], y[i - 1]) * h\n",
    "        x[i] = x[i - 1] + h\n",
    "    \n",
    "    euler[str(h)+\" x\"] = pd.Series(x)\n",
    "    euler[str(h)+\" y\"] = pd.Series(y)\n",
    "    plt.plot(x,y)"
   ]
  },
  {
   "cell_type": "code",
   "execution_count": 5,
   "metadata": {},
   "outputs": [
    {
     "data": {
      "text/html": [
       "<div>\n",
       "<style scoped>\n",
       "    .dataframe tbody tr th:only-of-type {\n",
       "        vertical-align: middle;\n",
       "    }\n",
       "\n",
       "    .dataframe tbody tr th {\n",
       "        vertical-align: top;\n",
       "    }\n",
       "\n",
       "    .dataframe thead th {\n",
       "        text-align: right;\n",
       "    }\n",
       "</style>\n",
       "<table border=\"1\" class=\"dataframe\">\n",
       "  <thead>\n",
       "    <tr style=\"text-align: right;\">\n",
       "      <th></th>\n",
       "      <th>0.01 x</th>\n",
       "      <th>0.01 y</th>\n",
       "      <th>0.001 x</th>\n",
       "      <th>0.001 y</th>\n",
       "      <th>0.0001 x</th>\n",
       "      <th>0.0001 y</th>\n",
       "    </tr>\n",
       "  </thead>\n",
       "  <tbody>\n",
       "    <tr>\n",
       "      <td>0</td>\n",
       "      <td>0.00</td>\n",
       "      <td>1.000000</td>\n",
       "      <td>0.000</td>\n",
       "      <td>1.000000</td>\n",
       "      <td>0.0000</td>\n",
       "      <td>1.000000</td>\n",
       "    </tr>\n",
       "    <tr>\n",
       "      <td>1</td>\n",
       "      <td>0.01</td>\n",
       "      <td>1.020000</td>\n",
       "      <td>0.001</td>\n",
       "      <td>1.002000</td>\n",
       "      <td>0.0001</td>\n",
       "      <td>1.000200</td>\n",
       "    </tr>\n",
       "    <tr>\n",
       "      <td>2</td>\n",
       "      <td>0.02</td>\n",
       "      <td>1.040504</td>\n",
       "      <td>0.002</td>\n",
       "      <td>1.004005</td>\n",
       "      <td>0.0002</td>\n",
       "      <td>1.000400</td>\n",
       "    </tr>\n",
       "    <tr>\n",
       "      <td>3</td>\n",
       "      <td>0.03</td>\n",
       "      <td>1.061531</td>\n",
       "      <td>0.003</td>\n",
       "      <td>1.006015</td>\n",
       "      <td>0.0003</td>\n",
       "      <td>1.000600</td>\n",
       "    </tr>\n",
       "    <tr>\n",
       "      <td>4</td>\n",
       "      <td>0.04</td>\n",
       "      <td>1.083099</td>\n",
       "      <td>0.004</td>\n",
       "      <td>1.008030</td>\n",
       "      <td>0.0004</td>\n",
       "      <td>1.000800</td>\n",
       "    </tr>\n",
       "    <tr>\n",
       "      <td>...</td>\n",
       "      <td>...</td>\n",
       "      <td>...</td>\n",
       "      <td>...</td>\n",
       "      <td>...</td>\n",
       "      <td>...</td>\n",
       "      <td>...</td>\n",
       "    </tr>\n",
       "    <tr>\n",
       "      <td>96</td>\n",
       "      <td>0.96</td>\n",
       "      <td>inf</td>\n",
       "      <td>0.096</td>\n",
       "      <td>1.217738</td>\n",
       "      <td>0.0096</td>\n",
       "      <td>1.019431</td>\n",
       "    </tr>\n",
       "    <tr>\n",
       "      <td>97</td>\n",
       "      <td>0.97</td>\n",
       "      <td>inf</td>\n",
       "      <td>0.097</td>\n",
       "      <td>1.220315</td>\n",
       "      <td>0.0097</td>\n",
       "      <td>1.019636</td>\n",
       "    </tr>\n",
       "    <tr>\n",
       "      <td>98</td>\n",
       "      <td>0.98</td>\n",
       "      <td>inf</td>\n",
       "      <td>0.098</td>\n",
       "      <td>1.222901</td>\n",
       "      <td>0.0098</td>\n",
       "      <td>1.019840</td>\n",
       "    </tr>\n",
       "    <tr>\n",
       "      <td>99</td>\n",
       "      <td>0.99</td>\n",
       "      <td>inf</td>\n",
       "      <td>0.099</td>\n",
       "      <td>1.225493</td>\n",
       "      <td>0.0099</td>\n",
       "      <td>1.020045</td>\n",
       "    </tr>\n",
       "    <tr>\n",
       "      <td>100</td>\n",
       "      <td>1.00</td>\n",
       "      <td>inf</td>\n",
       "      <td>0.100</td>\n",
       "      <td>1.228093</td>\n",
       "      <td>0.0100</td>\n",
       "      <td>1.020250</td>\n",
       "    </tr>\n",
       "  </tbody>\n",
       "</table>\n",
       "<p>101 rows × 6 columns</p>\n",
       "</div>"
      ],
      "text/plain": [
       "     0.01 x    0.01 y  0.001 x   0.001 y  0.0001 x  0.0001 y\n",
       "0      0.00  1.000000    0.000  1.000000    0.0000  1.000000\n",
       "1      0.01  1.020000    0.001  1.002000    0.0001  1.000200\n",
       "2      0.02  1.040504    0.002  1.004005    0.0002  1.000400\n",
       "3      0.03  1.061531    0.003  1.006015    0.0003  1.000600\n",
       "4      0.04  1.083099    0.004  1.008030    0.0004  1.000800\n",
       "..      ...       ...      ...       ...       ...       ...\n",
       "96     0.96       inf    0.096  1.217738    0.0096  1.019431\n",
       "97     0.97       inf    0.097  1.220315    0.0097  1.019636\n",
       "98     0.98       inf    0.098  1.222901    0.0098  1.019840\n",
       "99     0.99       inf    0.099  1.225493    0.0099  1.020045\n",
       "100    1.00       inf    0.100  1.228093    0.0100  1.020250\n",
       "\n",
       "[101 rows x 6 columns]"
      ]
     },
     "execution_count": 5,
     "metadata": {},
     "output_type": "execute_result"
    }
   ],
   "source": [
    "euler"
   ]
  }
 ],
 "metadata": {
  "kernelspec": {
   "display_name": "Python 3",
   "language": "python",
   "name": "python3"
  },
  "language_info": {
   "codemirror_mode": {
    "name": "ipython",
    "version": 3
   },
   "file_extension": ".py",
   "mimetype": "text/x-python",
   "name": "python",
   "nbconvert_exporter": "python",
   "pygments_lexer": "ipython3",
   "version": "3.7.4"
  }
 },
 "nbformat": 4,
 "nbformat_minor": 2
}
